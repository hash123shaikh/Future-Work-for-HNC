{
 "cells": [
  {
   "cell_type": "code",
   "execution_count": 50,
   "metadata": {},
   "outputs": [],
   "source": [
    "%matplotlib inline\n",
    "import glob\n",
    "from collections import Counter\n",
    "from itertools import chain\n",
    "from copy import copy\n",
    "from functools import partial\n",
    "\n",
    "import numpy as np\n",
    "import pandas as pd\n",
    "import matplotlib.pyplot as plt\n",
    "import seaborn as sns\n",
    "from scipy.stats import pearsonr\n",
    "from joblib import Parallel, delayed\n",
    "from sklearn.linear_model import LogisticRegression, LogisticRegressionCV\n",
    "from sklearn.ensemble import RandomForestClassifier\n",
    "from sklearn.decomposition import PCA\n",
    "from sklearn.pipeline import make_pipeline, make_union\n",
    "from sklearn.preprocessing import StandardScaler\n",
    "from sklearn.compose import make_column_transformer\n",
    "from sklearn.feature_selection import f_classif, mutual_info_classif, SelectKBest, VarianceThreshold\n",
    "from sklearn.model_selection import cross_validate, GridSearchCV, StratifiedKFold\n",
    "from sklearn.cluster import FeatureAgglomeration\n",
    "from sklearn.metrics import roc_curve, roc_auc_score, pairwise_distances\n",
    "from sklearn.utils import resample\n",
    "\n",
    "\n",
    "np.random.seed(42)\n",
    "sns.set(style='white', context='paper', font_scale=2.5, rc={'figure.figsize': (12, 9)}, palette='deep')"
   ]
  },
  {
   "cell_type": "code",
   "execution_count": 2,
   "metadata": {},
   "outputs": [],
   "source": [
    "def load_clinical_data(target_outcome='PR P'):\n",
    "    \"\"\"Load and preprocess the data.\"\"\"\n",
    "    data = pd.read_csv('data/clinical.csv', index_col='Study ID')\n",
    "    outcomes = (pd.read_csv('data/clinical_outcomes.csv', usecols=['ID', target_outcome])\n",
    "                .rename(columns={'ID': 'Study ID'})\n",
    "                .set_index('Study ID'))\n",
    "    data['target'] = outcomes[target_outcome]\n",
    "    data = data.dropna(subset=['target'])\n",
    "    data = data.drop(['cancer_death', 'split', 'target_binary', 'survival_time', 'death'],\n",
    "                     axis=1, errors='ignore')\n",
    "\n",
    "    # binarize T stage as T1/2 = 0, T3/4 = 1\n",
    "    data['T Stage'] = data['T Stage'].map(\n",
    "        lambda x: 'T1/2' if x in ['T1', 'T1a', 'T1b', 'T2'] else 'T3/4',\n",
    "        na_action='ignore')\n",
    "    # binarize N stage as N0/N+\n",
    "    data['N Stage'] = data['N Stage'].map(\n",
    "        lambda x: 'N0' if x == 'N0' else 'N+')\n",
    "    data['Stage'] = data['Stage'].map(\n",
    "        lambda x: 'I/II' if x in ['I', 'II', 'IIA'] else 'III/IV',\n",
    "        na_action='ignore')\n",
    "    data['ECOG'] = data['ECOG'].map(\n",
    "        lambda x: '>0' if x > 0 else '0', na_action='ignore')\n",
    "    data = pd.get_dummies(data,\n",
    "                          columns=[\n",
    "                              'Sex',\n",
    "                              'N Stage',\n",
    "                              'Disease Site',\n",
    "                              'T Stage',\n",
    "                              'Stage',\n",
    "                              'ECOG',\n",
    "                          ],\n",
    "                          drop_first=True)\n",
    "    # keep all indicator columns in case of missing values\n",
    "    data = pd.get_dummies(data.rename(columns={'HPV Combined': 'HPV Status'}),\n",
    "                          columns=[\n",
    "                              'HPV Status',\n",
    "                          ])\n",
    "    return data\n"
   ]
  },
  {
   "cell_type": "code",
   "execution_count": 3,
   "metadata": {},
   "outputs": [
    {
     "data": {
      "text/html": [
       "<div>\n",
       "<style scoped>\n",
       "    .dataframe tbody tr th:only-of-type {\n",
       "        vertical-align: middle;\n",
       "    }\n",
       "\n",
       "    .dataframe tbody tr th {\n",
       "        vertical-align: top;\n",
       "    }\n",
       "\n",
       "    .dataframe thead th {\n",
       "        text-align: right;\n",
       "    }\n",
       "</style>\n",
       "<table border=\"1\" class=\"dataframe\">\n",
       "  <thead>\n",
       "    <tr style=\"text-align: right;\">\n",
       "      <th></th>\n",
       "      <th>age at dx</th>\n",
       "      <th>Dose</th>\n",
       "      <th>Chemotherapy</th>\n",
       "      <th>volume</th>\n",
       "      <th>target</th>\n",
       "      <th>Sex_Male</th>\n",
       "      <th>N Stage_N0</th>\n",
       "      <th>Disease Site_larynx</th>\n",
       "      <th>Disease Site_lip &amp; oral cavity</th>\n",
       "      <th>Disease Site_nasopharynx</th>\n",
       "      <th>Disease Site_oropharynx</th>\n",
       "      <th>T Stage_T3/4</th>\n",
       "      <th>Stage_III/IV</th>\n",
       "      <th>ECOG_&gt;0</th>\n",
       "      <th>HPV Status_0.0</th>\n",
       "      <th>HPV Status_1.0</th>\n",
       "    </tr>\n",
       "  </thead>\n",
       "  <tbody>\n",
       "    <tr>\n",
       "      <th>count</th>\n",
       "      <td>290.000000</td>\n",
       "      <td>290.000000</td>\n",
       "      <td>290.000000</td>\n",
       "      <td>290.000000</td>\n",
       "      <td>290.000000</td>\n",
       "      <td>290.000000</td>\n",
       "      <td>290.000000</td>\n",
       "      <td>290.000000</td>\n",
       "      <td>290.000000</td>\n",
       "      <td>290.000000</td>\n",
       "      <td>290.000000</td>\n",
       "      <td>290.000000</td>\n",
       "      <td>290.000000</td>\n",
       "      <td>290.000000</td>\n",
       "      <td>290.000000</td>\n",
       "      <td>290.000000</td>\n",
       "    </tr>\n",
       "    <tr>\n",
       "      <th>mean</th>\n",
       "      <td>59.489655</td>\n",
       "      <td>69.434483</td>\n",
       "      <td>0.796552</td>\n",
       "      <td>20631.415086</td>\n",
       "      <td>0.120690</td>\n",
       "      <td>0.744828</td>\n",
       "      <td>0.331034</td>\n",
       "      <td>0.286207</td>\n",
       "      <td>0.100000</td>\n",
       "      <td>0.055172</td>\n",
       "      <td>0.448276</td>\n",
       "      <td>0.620690</td>\n",
       "      <td>0.858621</td>\n",
       "      <td>0.724138</td>\n",
       "      <td>0.062069</td>\n",
       "      <td>0.100000</td>\n",
       "    </tr>\n",
       "    <tr>\n",
       "      <th>std</th>\n",
       "      <td>8.683291</td>\n",
       "      <td>2.789783</td>\n",
       "      <td>0.403259</td>\n",
       "      <td>18856.659383</td>\n",
       "      <td>0.326329</td>\n",
       "      <td>0.436712</td>\n",
       "      <td>0.471399</td>\n",
       "      <td>0.452769</td>\n",
       "      <td>0.300519</td>\n",
       "      <td>0.228711</td>\n",
       "      <td>0.498177</td>\n",
       "      <td>0.486054</td>\n",
       "      <td>0.349015</td>\n",
       "      <td>0.447720</td>\n",
       "      <td>0.241698</td>\n",
       "      <td>0.300519</td>\n",
       "    </tr>\n",
       "    <tr>\n",
       "      <th>min</th>\n",
       "      <td>20.000000</td>\n",
       "      <td>50.000000</td>\n",
       "      <td>0.000000</td>\n",
       "      <td>260.083333</td>\n",
       "      <td>0.000000</td>\n",
       "      <td>0.000000</td>\n",
       "      <td>0.000000</td>\n",
       "      <td>0.000000</td>\n",
       "      <td>0.000000</td>\n",
       "      <td>0.000000</td>\n",
       "      <td>0.000000</td>\n",
       "      <td>0.000000</td>\n",
       "      <td>0.000000</td>\n",
       "      <td>0.000000</td>\n",
       "      <td>0.000000</td>\n",
       "      <td>0.000000</td>\n",
       "    </tr>\n",
       "    <tr>\n",
       "      <th>25%</th>\n",
       "      <td>55.000000</td>\n",
       "      <td>70.000000</td>\n",
       "      <td>1.000000</td>\n",
       "      <td>6795.770833</td>\n",
       "      <td>0.000000</td>\n",
       "      <td>0.000000</td>\n",
       "      <td>0.000000</td>\n",
       "      <td>0.000000</td>\n",
       "      <td>0.000000</td>\n",
       "      <td>0.000000</td>\n",
       "      <td>0.000000</td>\n",
       "      <td>0.000000</td>\n",
       "      <td>1.000000</td>\n",
       "      <td>0.000000</td>\n",
       "      <td>0.000000</td>\n",
       "      <td>0.000000</td>\n",
       "    </tr>\n",
       "    <tr>\n",
       "      <th>50%</th>\n",
       "      <td>60.000000</td>\n",
       "      <td>70.000000</td>\n",
       "      <td>1.000000</td>\n",
       "      <td>13775.625000</td>\n",
       "      <td>0.000000</td>\n",
       "      <td>1.000000</td>\n",
       "      <td>0.000000</td>\n",
       "      <td>0.000000</td>\n",
       "      <td>0.000000</td>\n",
       "      <td>0.000000</td>\n",
       "      <td>0.000000</td>\n",
       "      <td>1.000000</td>\n",
       "      <td>1.000000</td>\n",
       "      <td>1.000000</td>\n",
       "      <td>0.000000</td>\n",
       "      <td>0.000000</td>\n",
       "    </tr>\n",
       "    <tr>\n",
       "      <th>75%</th>\n",
       "      <td>65.000000</td>\n",
       "      <td>70.000000</td>\n",
       "      <td>1.000000</td>\n",
       "      <td>29615.604167</td>\n",
       "      <td>0.000000</td>\n",
       "      <td>1.000000</td>\n",
       "      <td>1.000000</td>\n",
       "      <td>1.000000</td>\n",
       "      <td>0.000000</td>\n",
       "      <td>0.000000</td>\n",
       "      <td>1.000000</td>\n",
       "      <td>1.000000</td>\n",
       "      <td>1.000000</td>\n",
       "      <td>1.000000</td>\n",
       "      <td>0.000000</td>\n",
       "      <td>0.000000</td>\n",
       "    </tr>\n",
       "    <tr>\n",
       "      <th>max</th>\n",
       "      <td>81.000000</td>\n",
       "      <td>72.000000</td>\n",
       "      <td>1.000000</td>\n",
       "      <td>91326.583333</td>\n",
       "      <td>1.000000</td>\n",
       "      <td>1.000000</td>\n",
       "      <td>1.000000</td>\n",
       "      <td>1.000000</td>\n",
       "      <td>1.000000</td>\n",
       "      <td>1.000000</td>\n",
       "      <td>1.000000</td>\n",
       "      <td>1.000000</td>\n",
       "      <td>1.000000</td>\n",
       "      <td>1.000000</td>\n",
       "      <td>1.000000</td>\n",
       "      <td>1.000000</td>\n",
       "    </tr>\n",
       "  </tbody>\n",
       "</table>\n",
       "</div>"
      ],
      "text/plain": [
       "        age at dx        Dose  Chemotherapy        volume      target  \\\n",
       "count  290.000000  290.000000    290.000000    290.000000  290.000000   \n",
       "mean    59.489655   69.434483      0.796552  20631.415086    0.120690   \n",
       "std      8.683291    2.789783      0.403259  18856.659383    0.326329   \n",
       "min     20.000000   50.000000      0.000000    260.083333    0.000000   \n",
       "25%     55.000000   70.000000      1.000000   6795.770833    0.000000   \n",
       "50%     60.000000   70.000000      1.000000  13775.625000    0.000000   \n",
       "75%     65.000000   70.000000      1.000000  29615.604167    0.000000   \n",
       "max     81.000000   72.000000      1.000000  91326.583333    1.000000   \n",
       "\n",
       "         Sex_Male  N Stage_N0  Disease Site_larynx  \\\n",
       "count  290.000000  290.000000           290.000000   \n",
       "mean     0.744828    0.331034             0.286207   \n",
       "std      0.436712    0.471399             0.452769   \n",
       "min      0.000000    0.000000             0.000000   \n",
       "25%      0.000000    0.000000             0.000000   \n",
       "50%      1.000000    0.000000             0.000000   \n",
       "75%      1.000000    1.000000             1.000000   \n",
       "max      1.000000    1.000000             1.000000   \n",
       "\n",
       "       Disease Site_lip & oral cavity  Disease Site_nasopharynx  \\\n",
       "count                      290.000000                290.000000   \n",
       "mean                         0.100000                  0.055172   \n",
       "std                          0.300519                  0.228711   \n",
       "min                          0.000000                  0.000000   \n",
       "25%                          0.000000                  0.000000   \n",
       "50%                          0.000000                  0.000000   \n",
       "75%                          0.000000                  0.000000   \n",
       "max                          1.000000                  1.000000   \n",
       "\n",
       "       Disease Site_oropharynx  T Stage_T3/4  Stage_III/IV     ECOG_>0  \\\n",
       "count               290.000000    290.000000    290.000000  290.000000   \n",
       "mean                  0.448276      0.620690      0.858621    0.724138   \n",
       "std                   0.498177      0.486054      0.349015    0.447720   \n",
       "min                   0.000000      0.000000      0.000000    0.000000   \n",
       "25%                   0.000000      0.000000      1.000000    0.000000   \n",
       "50%                   0.000000      1.000000      1.000000    1.000000   \n",
       "75%                   1.000000      1.000000      1.000000    1.000000   \n",
       "max                   1.000000      1.000000      1.000000    1.000000   \n",
       "\n",
       "       HPV Status_0.0  HPV Status_1.0  \n",
       "count      290.000000      290.000000  \n",
       "mean         0.062069        0.100000  \n",
       "std          0.241698        0.300519  \n",
       "min          0.000000        0.000000  \n",
       "25%          0.000000        0.000000  \n",
       "50%          0.000000        0.000000  \n",
       "75%          0.000000        0.000000  \n",
       "max          1.000000        1.000000  "
      ]
     },
     "execution_count": 3,
     "metadata": {},
     "output_type": "execute_result"
    }
   ],
   "source": [
    "clinical = load_clinical_data('PR P')\n",
    "clinical.describe()"
   ]
  },
  {
   "cell_type": "code",
   "execution_count": 4,
   "metadata": {},
   "outputs": [
    {
     "data": {
      "text/plain": [
       "Index(['age at dx', 'Dose', 'Chemotherapy', 'volume', 'target', 'Sex_Male',\n",
       "       'N Stage_N0', 'Disease Site_larynx', 'Disease Site_lip & oral cavity',\n",
       "       'Disease Site_nasopharynx', 'Disease Site_oropharynx', 'T Stage_T3/4',\n",
       "       'Stage_III/IV', 'ECOG_>0', 'HPV Status_0.0', 'HPV Status_1.0'],\n",
       "      dtype='object')"
      ]
     },
     "execution_count": 4,
     "metadata": {},
     "output_type": "execute_result"
    }
   ],
   "source": [
    "clinical.columns"
   ]
  },
  {
   "cell_type": "code",
   "execution_count": 5,
   "metadata": {},
   "outputs": [
    {
     "data": {
      "text/plain": [
       "35.0"
      ]
     },
     "execution_count": 5,
     "metadata": {},
     "output_type": "execute_result"
    }
   ],
   "source": [
    "clinical['target'].sum()"
   ]
  },
  {
   "cell_type": "code",
   "execution_count": 6,
   "metadata": {},
   "outputs": [],
   "source": [
    "X_clinical = clinical.drop('target', axis=1)\n",
    "statistics, pvals = f_classif(X_clinical, clinical['target'])"
   ]
  },
  {
   "cell_type": "code",
   "execution_count": 7,
   "metadata": {},
   "outputs": [
    {
     "data": {
      "image/png": "[encoded data removed]",
      "text/plain": [
       "<Figure size 864x648 with 1 Axes>"
      ]
     },
     "metadata": {},
     "output_type": "display_data"
    }
   ],
   "source": [
    "sort_idxs = np.argsort(pvals)[::-1]\n",
    "fig, ax = plt.subplots()\n",
    "yticks = np.arange(len(pvals))\n",
    "ax.barh(yticks, 1 / pvals[sort_idxs])\n",
    "ax.axvline(1 / .05, ls='--', c='#888888')\n",
    "ax.set_yticks(yticks)\n",
    "ax.set_yticklabels(X_clinical.columns[sort_idxs].map(lambda x: x.replace('_', ' ')))\n",
    "ax.set_xlabel('Feature importance ($-log_{10}p$)')\n",
    "ax.set_xscale('log')\n",
    "fig.tight_layout()\n",
    "sns.despine()"
   ]
  },
  {
   "cell_type": "code",
   "execution_count": 8,
   "metadata": {},
   "outputs": [
    {
     "data": {
      "text/plain": [
       "array([9.10820810e-01, 4.64029617e-01, 3.59539043e-01, 3.44031639e-01,\n",
       "       3.23541456e-01, 1.73303568e-01, 1.57577579e-01, 1.33981049e-01,\n",
       "       1.09875243e-01, 4.12236694e-02, 1.19960052e-02, 2.02448003e-03,\n",
       "       1.93653987e-03, 3.79825834e-04, 4.90767556e-06])"
      ]
     },
     "execution_count": 8,
     "metadata": {},
     "output_type": "execute_result"
    }
   ],
   "source": [
    "pvals[sort_idxs]"
   ]
  },
  {
   "cell_type": "code",
   "execution_count": 9,
   "metadata": {},
   "outputs": [],
   "source": [
    "num_folds = 5\n",
    "pipeline = make_pipeline(\n",
    "    StandardScaler(),\n",
    "    LogisticRegressionCV(penalty='l1',\n",
    "                         scoring='roc_auc', \n",
    "                         solver='liblinear', \n",
    "                         max_iter=500, \n",
    "                         cv=num_folds))\n",
    "results_clinical = cross_validate(\n",
    "    pipeline, X_clinical, clinical['target'], cv=num_folds, scoring='roc_auc', return_estimator=True)"
   ]
  },
  {
   "cell_type": "code",
   "execution_count": 10,
   "metadata": {},
   "outputs": [
    {
     "data": {
      "text/plain": [
       "(0.7820728291316527, 0.05564015246133392)"
      ]
     },
     "execution_count": 10,
     "metadata": {},
     "output_type": "execute_result"
    }
   ],
   "source": [
    "results_clinical['test_score'].mean(), results_clinical['test_score'].std()"
   ]
  },
  {
   "cell_type": "code",
   "execution_count": 11,
   "metadata": {},
   "outputs": [],
   "source": [
    "selected = [(x[1].coef_ > 0).ravel() for x in results_clinical['estimator']]\n",
    "num_selected = [x.sum() for x in selected]\n",
    "names_selected = [X_clinical.columns[x].tolist() for x in selected]"
   ]
  },
  {
   "cell_type": "code",
   "execution_count": 12,
   "metadata": {},
   "outputs": [
    {
     "data": {
      "text/plain": [
       "5.8"
      ]
     },
     "execution_count": 12,
     "metadata": {},
     "output_type": "execute_result"
    }
   ],
   "source": [
    "np.mean(num_selected)"
   ]
  },
  {
   "cell_type": "code",
   "execution_count": 13,
   "metadata": {},
   "outputs": [
    {
     "data": {
      "image/png": "[encoded data removed]",
      "text/plain": [
       "<Figure size 864x648 with 1 Axes>"
      ]
     },
     "metadata": {},
     "output_type": "display_data"
    }
   ],
   "source": [
    "top_features = Counter(chain.from_iterable(names_selected)).most_common()\n",
    "percent_selected = pd.Series(dict(top_features)) / num_folds * 100\n",
    "percent_selected.index = percent_selected.index.map(lambda x: x.replace('_', ' '))\n",
    "ax = percent_selected.sort_values().plot(kind='barh')\n",
    "ax.set_xlabel('Percent selected')\n",
    "sns.despine()"
   ]
  },
  {
   "cell_type": "code",
   "execution_count": 14,
   "metadata": {},
   "outputs": [
    {
     "data": {
      "text/plain": [
       "Index(['volume', 'Disease Site lip & oral cavity', 'T Stage T3/4', 'ECOG >0',\n",
       "       'HPV Status 0.0', 'Disease Site oropharynx', 'Stage III/IV'],\n",
       "      dtype='object')"
      ]
     },
     "execution_count": 14,
     "metadata": {},
     "output_type": "execute_result"
    }
   ],
   "source": [
    "percent_selected.index.map(lambda x: x.replace('_', ' '))"
   ]
  },
  {
   "cell_type": "code",
   "execution_count": 15,
   "metadata": {},
   "outputs": [],
   "source": [
    "def load_radiomics(data_dir):\n",
    "    radiomics_files = f'{data_dir}/*.csv'\n",
    "    feature_classes = ['shape',\n",
    "       'firstorder', 'glcm', 'gldm', 'glrlm', 'glszm', 'ngtdm']\n",
    "    dfs = []\n",
    "    for f in glob.iglob(radiomics_files):\n",
    "        spacing = f.replace('.csv', '').split('_')[-1]\n",
    "        df = pd.read_csv(f, index_col='Study ID').filter(regex='|'.join(feature_classes))\n",
    "        new_colnames = {c: c + f'_{spacing}' for c in df.columns}\n",
    "        df = df.rename(columns=new_colnames)\n",
    "        dfs.append(df)\n",
    "    return pd.concat(dfs, axis=1)"
   ]
  },
  {
   "cell_type": "code",
   "execution_count": 22,
   "metadata": {},
   "outputs": [],
   "source": [
    "radiomics = load_radiomics('data/features_resegment_new/')"
   ]
  },
  {
   "cell_type": "code",
   "execution_count": 23,
   "metadata": {},
   "outputs": [
    {
     "data": {
      "text/plain": [
       "3748"
      ]
     },
     "execution_count": 23,
     "metadata": {},
     "output_type": "execute_result"
    }
   ],
   "source": [
    "len(radiomics.columns)"
   ]
  },
  {
   "cell_type": "code",
   "execution_count": 24,
   "metadata": {},
   "outputs": [
    {
     "data": {
      "text/plain": [
       "1874"
      ]
     },
     "execution_count": 24,
     "metadata": {},
     "output_type": "execute_result"
    }
   ],
   "source": [
    "len([c for c in radiomics.columns if '1x1' in c])"
   ]
  },
  {
   "cell_type": "code",
   "execution_count": 25,
   "metadata": {},
   "outputs": [],
   "source": [
    "X_combined = pd.concat([X_clinical, radiomics], join='inner', axis=1)"
   ]
  },
  {
   "cell_type": "code",
   "execution_count": 26,
   "metadata": {},
   "outputs": [
    {
     "data": {
      "text/plain": [
       "(290, 3763)"
      ]
     },
     "execution_count": 26,
     "metadata": {},
     "output_type": "execute_result"
    }
   ],
   "source": [
    "X_combined.shape"
   ]
  },
  {
   "cell_type": "code",
   "execution_count": 27,
   "metadata": {},
   "outputs": [
    {
     "name": "stdout",
     "output_type": "stream",
     "text": [
      "[CV]  ................................................................\n",
      "Fitting 5 folds for each of 40 candidates, totalling 200 fits\n"
     ]
    },
    {
     "name": "stderr",
     "output_type": "stream",
     "text": [
      "[Parallel(n_jobs=1)]: Using backend SequentialBackend with 1 concurrent workers.\n",
      "[Parallel(n_jobs=14)]: Using backend LokyBackend with 14 concurrent workers.\n",
      "[Parallel(n_jobs=14)]: Done   4 tasks      | elapsed:    7.4s\n",
      "[Parallel(n_jobs=14)]: Done  13 tasks      | elapsed:    7.8s\n",
      "[Parallel(n_jobs=14)]: Done  22 tasks      | elapsed:   14.0s\n",
      "[Parallel(n_jobs=14)]: Done  33 tasks      | elapsed:   19.9s\n",
      "[Parallel(n_jobs=14)]: Done  44 tasks      | elapsed:   24.0s\n",
      "[Parallel(n_jobs=14)]: Done  57 tasks      | elapsed:   27.2s\n",
      "[Parallel(n_jobs=14)]: Done  70 tasks      | elapsed:   31.7s\n",
      "[Parallel(n_jobs=14)]: Done  85 tasks      | elapsed:   37.5s\n",
      "[Parallel(n_jobs=14)]: Done 100 tasks      | elapsed:   43.0s\n",
      "[Parallel(n_jobs=14)]: Done 117 tasks      | elapsed:   49.2s\n",
      "[Parallel(n_jobs=14)]: Done 134 tasks      | elapsed:   56.4s\n",
      "[Parallel(n_jobs=14)]: Done 153 tasks      | elapsed:  1.1min\n",
      "[Parallel(n_jobs=14)]: Done 172 tasks      | elapsed:  1.2min\n",
      "[Parallel(n_jobs=14)]: Done 194 out of 200 | elapsed:  1.3min remaining:    2.4s\n",
      "[Parallel(n_jobs=14)]: Done 200 out of 200 | elapsed:  1.3min finished\n"
     ]
    },
    {
     "name": "stdout",
     "output_type": "stream",
     "text": [
      "[CV] .................................... , score=0.728, total= 1.4min\n",
      "[CV]  ................................................................\n",
      "Fitting 5 folds for each of 40 candidates, totalling 200 fits\n"
     ]
    },
    {
     "name": "stderr",
     "output_type": "stream",
     "text": [
      "[Parallel(n_jobs=1)]: Done   1 out of   1 | elapsed:  1.4min remaining:    0.0s\n",
      "[Parallel(n_jobs=14)]: Using backend LokyBackend with 14 concurrent workers.\n",
      "[Parallel(n_jobs=14)]: Done   4 tasks      | elapsed:    5.8s\n",
      "[Parallel(n_jobs=14)]: Done  13 tasks      | elapsed:    6.2s\n",
      "[Parallel(n_jobs=14)]: Done  22 tasks      | elapsed:   11.8s\n",
      "[Parallel(n_jobs=14)]: Done  33 tasks      | elapsed:   17.3s\n",
      "[Parallel(n_jobs=14)]: Done  44 tasks      | elapsed:   21.6s\n",
      "[Parallel(n_jobs=14)]: Done  57 tasks      | elapsed:   24.8s\n",
      "[Parallel(n_jobs=14)]: Done  70 tasks      | elapsed:   29.2s\n",
      "[Parallel(n_jobs=14)]: Done  85 tasks      | elapsed:   35.0s\n",
      "[Parallel(n_jobs=14)]: Done 100 tasks      | elapsed:   40.7s\n",
      "[Parallel(n_jobs=14)]: Done 117 tasks      | elapsed:   46.9s\n",
      "[Parallel(n_jobs=14)]: Done 134 tasks      | elapsed:   53.6s\n",
      "[Parallel(n_jobs=14)]: Done 153 tasks      | elapsed:  1.0min\n",
      "[Parallel(n_jobs=14)]: Done 172 tasks      | elapsed:  1.1min\n",
      "[Parallel(n_jobs=14)]: Done 194 out of 200 | elapsed:  1.2min remaining:    2.3s\n",
      "[Parallel(n_jobs=14)]: Done 200 out of 200 | elapsed:  1.3min finished\n"
     ]
    },
    {
     "name": "stdout",
     "output_type": "stream",
     "text": [
      "[CV] .................................... , score=0.838, total= 1.3min\n",
      "[CV]  ................................................................\n",
      "Fitting 5 folds for each of 40 candidates, totalling 200 fits\n"
     ]
    },
    {
     "name": "stderr",
     "output_type": "stream",
     "text": [
      "[Parallel(n_jobs=1)]: Done   2 out of   2 | elapsed:  2.7min remaining:    0.0s\n",
      "[Parallel(n_jobs=14)]: Using backend LokyBackend with 14 concurrent workers.\n",
      "[Parallel(n_jobs=14)]: Done   4 tasks      | elapsed:    5.9s\n",
      "[Parallel(n_jobs=14)]: Done  13 tasks      | elapsed:    6.2s\n",
      "[Parallel(n_jobs=14)]: Done  22 tasks      | elapsed:   12.0s\n",
      "[Parallel(n_jobs=14)]: Done  33 tasks      | elapsed:   17.5s\n",
      "[Parallel(n_jobs=14)]: Done  44 tasks      | elapsed:   21.8s\n",
      "[Parallel(n_jobs=14)]: Done  57 tasks      | elapsed:   24.7s\n",
      "[Parallel(n_jobs=14)]: Done  70 tasks      | elapsed:   29.6s\n",
      "[Parallel(n_jobs=14)]: Done  85 tasks      | elapsed:   35.4s\n",
      "[Parallel(n_jobs=14)]: Done 100 tasks      | elapsed:   41.2s\n",
      "[Parallel(n_jobs=14)]: Done 117 tasks      | elapsed:   48.2s\n",
      "[Parallel(n_jobs=14)]: Done 134 tasks      | elapsed:   55.5s\n",
      "[Parallel(n_jobs=14)]: Done 153 tasks      | elapsed:  1.0min\n",
      "[Parallel(n_jobs=14)]: Done 172 tasks      | elapsed:  1.2min\n",
      "[Parallel(n_jobs=14)]: Done 194 out of 200 | elapsed:  1.3min remaining:    2.4s\n",
      "[Parallel(n_jobs=14)]: Done 200 out of 200 | elapsed:  1.3min finished\n"
     ]
    },
    {
     "name": "stdout",
     "output_type": "stream",
     "text": [
      "[CV] .................................... , score=0.731, total= 1.3min\n",
      "[CV]  ................................................................\n",
      "Fitting 5 folds for each of 40 candidates, totalling 200 fits\n"
     ]
    },
    {
     "name": "stderr",
     "output_type": "stream",
     "text": [
      "[Parallel(n_jobs=1)]: Done   3 out of   3 | elapsed:  4.0min remaining:    0.0s\n",
      "[Parallel(n_jobs=14)]: Using backend LokyBackend with 14 concurrent workers.\n",
      "[Parallel(n_jobs=14)]: Done   4 tasks      | elapsed:    5.9s\n",
      "[Parallel(n_jobs=14)]: Done  13 tasks      | elapsed:    6.3s\n",
      "[Parallel(n_jobs=14)]: Done  22 tasks      | elapsed:   12.0s\n",
      "[Parallel(n_jobs=14)]: Done  33 tasks      | elapsed:   17.7s\n",
      "[Parallel(n_jobs=14)]: Done  44 tasks      | elapsed:   21.9s\n",
      "[Parallel(n_jobs=14)]: Done  57 tasks      | elapsed:   25.0s\n",
      "[Parallel(n_jobs=14)]: Done  70 tasks      | elapsed:   29.7s\n",
      "[Parallel(n_jobs=14)]: Done  85 tasks      | elapsed:   35.8s\n",
      "[Parallel(n_jobs=14)]: Done 100 tasks      | elapsed:   41.3s\n",
      "[Parallel(n_jobs=14)]: Done 117 tasks      | elapsed:   48.5s\n",
      "[Parallel(n_jobs=14)]: Done 134 tasks      | elapsed:   56.2s\n",
      "[Parallel(n_jobs=14)]: Done 153 tasks      | elapsed:  1.1min\n",
      "[Parallel(n_jobs=14)]: Done 172 tasks      | elapsed:  1.2min\n",
      "[Parallel(n_jobs=14)]: Done 194 out of 200 | elapsed:  1.3min remaining:    2.4s\n",
      "[Parallel(n_jobs=14)]: Done 200 out of 200 | elapsed:  1.3min finished\n"
     ]
    },
    {
     "name": "stdout",
     "output_type": "stream",
     "text": [
      "[CV] .................................... , score=0.770, total= 1.4min\n",
      "[CV]  ................................................................\n",
      "Fitting 5 folds for each of 40 candidates, totalling 200 fits\n"
     ]
    },
    {
     "name": "stderr",
     "output_type": "stream",
     "text": [
      "[Parallel(n_jobs=1)]: Done   4 out of   4 | elapsed:  5.4min remaining:    0.0s\n",
      "[Parallel(n_jobs=14)]: Using backend LokyBackend with 14 concurrent workers.\n",
      "[Parallel(n_jobs=14)]: Done   4 tasks      | elapsed:    5.9s\n",
      "[Parallel(n_jobs=14)]: Done  13 tasks      | elapsed:    6.2s\n",
      "[Parallel(n_jobs=14)]: Done  22 tasks      | elapsed:   12.0s\n",
      "[Parallel(n_jobs=14)]: Done  33 tasks      | elapsed:   17.6s\n",
      "[Parallel(n_jobs=14)]: Done  44 tasks      | elapsed:   22.6s\n",
      "[Parallel(n_jobs=14)]: Done  57 tasks      | elapsed:   25.5s\n",
      "[Parallel(n_jobs=14)]: Done  70 tasks      | elapsed:   29.8s\n",
      "[Parallel(n_jobs=14)]: Done  85 tasks      | elapsed:   35.7s\n",
      "[Parallel(n_jobs=14)]: Done 100 tasks      | elapsed:   42.0s\n",
      "[Parallel(n_jobs=14)]: Done 117 tasks      | elapsed:   51.1s\n",
      "[Parallel(n_jobs=14)]: Done 134 tasks      | elapsed:   58.7s\n",
      "[Parallel(n_jobs=14)]: Done 153 tasks      | elapsed:  1.1min\n",
      "[Parallel(n_jobs=14)]: Done 172 tasks      | elapsed:  1.2min\n",
      "[Parallel(n_jobs=14)]: Done 194 out of 200 | elapsed:  1.4min remaining:    2.5s\n",
      "[Parallel(n_jobs=14)]: Done 200 out of 200 | elapsed:  1.4min finished\n"
     ]
    },
    {
     "name": "stdout",
     "output_type": "stream",
     "text": [
      "[CV] .................................... , score=0.804, total= 1.4min\n"
     ]
    },
    {
     "name": "stderr",
     "output_type": "stream",
     "text": [
      "[Parallel(n_jobs=1)]: Done   5 out of   5 | elapsed:  6.8min remaining:    0.0s\n",
      "[Parallel(n_jobs=1)]: Done   5 out of   5 | elapsed:  6.8min finished\n"
     ]
    }
   ],
   "source": [
    "correlation_thresh = .9\n",
    "\n",
    "radiomics_preprocessing = make_pipeline(\n",
    "    VarianceThreshold(1e-6),\n",
    "    FeatureAgglomeration(affinity=partial(pairwise_distances, metric='correlation', n_jobs=1), \n",
    "                         n_clusters=None, distance_threshold=1 - correlation_thresh,\n",
    "                         linkage=\"single\"),\n",
    "    StandardScaler(),\n",
    "\n",
    "    SelectKBest(mutual_info_classif, k='all')\n",
    ")\n",
    "\n",
    "clinical_columns = X_clinical.columns.tolist()\n",
    "preprocessing = make_column_transformer(\n",
    "    (StandardScaler(), clinical_columns),\n",
    "    remainder=radiomics_preprocessing,\n",
    ")\n",
    "\n",
    "pipeline = make_pipeline(\n",
    "    preprocessing,\n",
    "    LogisticRegression(penalty='l1',\n",
    "                       solver='liblinear',\n",
    "                       class_weight='balanced',\n",
    "                       max_iter=500))\n",
    "param_grid = {\n",
    "    'columntransformer__remainder__selectkbest__k': np.arange(2, np.ceil(np.sqrt(len(X_combined))), 2, dtype=int),\n",
    "    'logisticregression__C': np.logspace(-2, 2, 5),\n",
    "}\n",
    "num_folds = 5\n",
    "estimator = GridSearchCV(pipeline, param_grid, cv=num_folds, scoring='roc_auc', n_jobs=14, verbose=10)\n",
    "results_radiomics = cross_validate(\n",
    "    estimator, X_combined, clinical.loc[X_combined.index, 'target'].values, cv=num_folds, return_estimator=True, scoring='roc_auc', verbose=10)"
   ]
  },
  {
   "cell_type": "code",
   "execution_count": 28,
   "metadata": {},
   "outputs": [
    {
     "data": {
      "text/plain": [
       "(0.7742296918767506, 0.04213242728731243)"
      ]
     },
     "execution_count": 28,
     "metadata": {},
     "output_type": "execute_result"
    }
   ],
   "source": [
    "results_radiomics['test_score'].mean(), results_radiomics['test_score'].std()"
   ]
  },
  {
   "cell_type": "code",
   "execution_count": 29,
   "metadata": {},
   "outputs": [],
   "source": [
    "radiomics_contrast = load_radiomics('data/features_resegment_contrast/')"
   ]
  },
  {
   "cell_type": "code",
   "execution_count": 30,
   "metadata": {},
   "outputs": [
    {
     "data": {
      "text/plain": [
       "3190"
      ]
     },
     "execution_count": 30,
     "metadata": {},
     "output_type": "execute_result"
    }
   ],
   "source": [
    "len(radiomics_contrast.columns)"
   ]
  },
  {
   "cell_type": "code",
   "execution_count": 31,
   "metadata": {},
   "outputs": [
    {
     "data": {
      "text/plain": [
       "1595"
      ]
     },
     "execution_count": 31,
     "metadata": {},
     "output_type": "execute_result"
    }
   ],
   "source": [
    "len([c for c in radiomics_contrast.columns if '1x1' in c])"
   ]
  },
  {
   "cell_type": "code",
   "execution_count": 32,
   "metadata": {},
   "outputs": [],
   "source": [
    "X_combined_contrast = pd.concat([X_clinical, radiomics_contrast], join='inner', axis=1)"
   ]
  },
  {
   "cell_type": "code",
   "execution_count": 33,
   "metadata": {},
   "outputs": [
    {
     "data": {
      "text/plain": [
       "(195, 3205)"
      ]
     },
     "execution_count": 33,
     "metadata": {},
     "output_type": "execute_result"
    }
   ],
   "source": [
    "X_combined_contrast.shape"
   ]
  },
  {
   "cell_type": "code",
   "execution_count": 34,
   "metadata": {},
   "outputs": [
    {
     "name": "stderr",
     "output_type": "stream",
     "text": [
      "[Parallel(n_jobs=1)]: Using backend SequentialBackend with 1 concurrent workers.\n",
      "[Parallel(n_jobs=14)]: Using backend LokyBackend with 14 concurrent workers.\n"
     ]
    },
    {
     "name": "stdout",
     "output_type": "stream",
     "text": [
      "[CV]  ................................................................\n",
      "Fitting 5 folds for each of 30 candidates, totalling 150 fits\n"
     ]
    },
    {
     "name": "stderr",
     "output_type": "stream",
     "text": [
      "[Parallel(n_jobs=14)]: Done   4 tasks      | elapsed:    4.1s\n",
      "[Parallel(n_jobs=14)]: Done  13 tasks      | elapsed:    4.3s\n",
      "[Parallel(n_jobs=14)]: Done  22 tasks      | elapsed:    8.2s\n",
      "[Parallel(n_jobs=14)]: Done  33 tasks      | elapsed:   11.6s\n",
      "[Parallel(n_jobs=14)]: Done  44 tasks      | elapsed:   13.9s\n",
      "[Parallel(n_jobs=14)]: Done  57 tasks      | elapsed:   17.0s\n",
      "[Parallel(n_jobs=14)]: Done  70 tasks      | elapsed:   19.4s\n",
      "[Parallel(n_jobs=14)]: Done  85 tasks      | elapsed:   23.7s\n",
      "[Parallel(n_jobs=14)]: Done 100 tasks      | elapsed:   27.2s\n",
      "[Parallel(n_jobs=14)]: Done 117 tasks      | elapsed:   31.9s\n",
      "[Parallel(n_jobs=14)]: Done 139 out of 150 | elapsed:   37.0s remaining:    2.9s\n",
      "[Parallel(n_jobs=14)]: Done 150 out of 150 | elapsed:   39.0s finished\n"
     ]
    },
    {
     "name": "stdout",
     "output_type": "stream",
     "text": [
      "[CV] .................................... , score=0.794, total=  41.0s\n",
      "[CV]  ................................................................\n",
      "Fitting 5 folds for each of 30 candidates, totalling 150 fits\n"
     ]
    },
    {
     "name": "stderr",
     "output_type": "stream",
     "text": [
      "[Parallel(n_jobs=1)]: Done   1 out of   1 | elapsed:   41.0s remaining:    0.0s\n",
      "[Parallel(n_jobs=14)]: Using backend LokyBackend with 14 concurrent workers.\n",
      "[Parallel(n_jobs=14)]: Done   4 tasks      | elapsed:    3.5s\n",
      "[Parallel(n_jobs=14)]: Done  13 tasks      | elapsed:    3.8s\n",
      "[Parallel(n_jobs=14)]: Done  22 tasks      | elapsed:    7.3s\n",
      "[Parallel(n_jobs=14)]: Done  33 tasks      | elapsed:   10.3s\n",
      "[Parallel(n_jobs=14)]: Done  44 tasks      | elapsed:   13.4s\n",
      "[Parallel(n_jobs=14)]: Done  57 tasks      | elapsed:   15.9s\n",
      "[Parallel(n_jobs=14)]: Done  70 tasks      | elapsed:   18.0s\n",
      "[Parallel(n_jobs=14)]: Done  85 tasks      | elapsed:   22.4s\n",
      "[Parallel(n_jobs=14)]: Done 100 tasks      | elapsed:   26.0s\n",
      "[Parallel(n_jobs=14)]: Done 117 tasks      | elapsed:   29.9s\n",
      "[Parallel(n_jobs=14)]: Done 139 out of 150 | elapsed:   34.8s remaining:    2.8s\n",
      "[Parallel(n_jobs=14)]: Done 150 out of 150 | elapsed:   36.8s finished\n"
     ]
    },
    {
     "name": "stdout",
     "output_type": "stream",
     "text": [
      "[CV] .................................... , score=0.782, total=  38.9s\n",
      "[CV]  ................................................................\n",
      "Fitting 5 folds for each of 30 candidates, totalling 150 fits\n"
     ]
    },
    {
     "name": "stderr",
     "output_type": "stream",
     "text": [
      "[Parallel(n_jobs=1)]: Done   2 out of   2 | elapsed:  1.3min remaining:    0.0s\n",
      "[Parallel(n_jobs=14)]: Using backend LokyBackend with 14 concurrent workers.\n",
      "[Parallel(n_jobs=14)]: Done   4 tasks      | elapsed:    3.5s\n",
      "[Parallel(n_jobs=14)]: Done  13 tasks      | elapsed:    3.8s\n",
      "[Parallel(n_jobs=14)]: Done  22 tasks      | elapsed:    7.3s\n",
      "[Parallel(n_jobs=14)]: Done  33 tasks      | elapsed:   10.5s\n",
      "[Parallel(n_jobs=14)]: Done  44 tasks      | elapsed:   13.6s\n",
      "[Parallel(n_jobs=14)]: Done  57 tasks      | elapsed:   16.5s\n",
      "[Parallel(n_jobs=14)]: Done  70 tasks      | elapsed:   18.1s\n",
      "[Parallel(n_jobs=14)]: Done  85 tasks      | elapsed:   22.8s\n",
      "[Parallel(n_jobs=14)]: Done 100 tasks      | elapsed:   26.3s\n",
      "[Parallel(n_jobs=14)]: Done 117 tasks      | elapsed:   30.0s\n",
      "[Parallel(n_jobs=14)]: Done 139 out of 150 | elapsed:   35.0s remaining:    2.8s\n",
      "[Parallel(n_jobs=14)]: Done 150 out of 150 | elapsed:   37.0s finished\n"
     ]
    },
    {
     "name": "stdout",
     "output_type": "stream",
     "text": [
      "[CV] .................................... , score=0.700, total=  39.1s\n",
      "[CV]  ................................................................\n",
      "Fitting 5 folds for each of 30 candidates, totalling 150 fits\n"
     ]
    },
    {
     "name": "stderr",
     "output_type": "stream",
     "text": [
      "[Parallel(n_jobs=1)]: Done   3 out of   3 | elapsed:  2.0min remaining:    0.0s\n",
      "[Parallel(n_jobs=14)]: Using backend LokyBackend with 14 concurrent workers.\n",
      "[Parallel(n_jobs=14)]: Done   4 tasks      | elapsed:    3.6s\n",
      "[Parallel(n_jobs=14)]: Done  13 tasks      | elapsed:    3.8s\n",
      "[Parallel(n_jobs=14)]: Done  22 tasks      | elapsed:    7.2s\n",
      "[Parallel(n_jobs=14)]: Done  33 tasks      | elapsed:   10.5s\n",
      "[Parallel(n_jobs=14)]: Done  44 tasks      | elapsed:   12.8s\n",
      "[Parallel(n_jobs=14)]: Done  57 tasks      | elapsed:   15.7s\n",
      "[Parallel(n_jobs=14)]: Done  70 tasks      | elapsed:   17.7s\n",
      "[Parallel(n_jobs=14)]: Done  85 tasks      | elapsed:   22.0s\n",
      "[Parallel(n_jobs=14)]: Done 100 tasks      | elapsed:   25.3s\n",
      "[Parallel(n_jobs=14)]: Done 117 tasks      | elapsed:   29.9s\n",
      "[Parallel(n_jobs=14)]: Done 139 out of 150 | elapsed:   34.8s remaining:    2.8s\n",
      "[Parallel(n_jobs=14)]: Done 150 out of 150 | elapsed:   37.0s finished\n"
     ]
    },
    {
     "name": "stdout",
     "output_type": "stream",
     "text": [
      "[CV] .................................... , score=0.594, total=  39.2s\n",
      "[CV]  ................................................................\n",
      "Fitting 5 folds for each of 30 candidates, totalling 150 fits\n"
     ]
    },
    {
     "name": "stderr",
     "output_type": "stream",
     "text": [
      "[Parallel(n_jobs=1)]: Done   4 out of   4 | elapsed:  2.6min remaining:    0.0s\n",
      "[Parallel(n_jobs=14)]: Using backend LokyBackend with 14 concurrent workers.\n",
      "[Parallel(n_jobs=14)]: Done   4 tasks      | elapsed:    3.7s\n",
      "[Parallel(n_jobs=14)]: Done  13 tasks      | elapsed:    3.9s\n",
      "[Parallel(n_jobs=14)]: Done  22 tasks      | elapsed:    7.5s\n",
      "[Parallel(n_jobs=14)]: Done  33 tasks      | elapsed:   10.9s\n",
      "[Parallel(n_jobs=14)]: Done  44 tasks      | elapsed:   13.4s\n",
      "[Parallel(n_jobs=14)]: Done  57 tasks      | elapsed:   16.5s\n",
      "[Parallel(n_jobs=14)]: Done  70 tasks      | elapsed:   18.4s\n",
      "[Parallel(n_jobs=14)]: Done  85 tasks      | elapsed:   23.0s\n",
      "[Parallel(n_jobs=14)]: Done 100 tasks      | elapsed:   26.5s\n",
      "[Parallel(n_jobs=14)]: Done 117 tasks      | elapsed:   31.2s\n",
      "[Parallel(n_jobs=14)]: Done 139 out of 150 | elapsed:   36.1s remaining:    2.9s\n",
      "[Parallel(n_jobs=14)]: Done 150 out of 150 | elapsed:   38.3s finished\n"
     ]
    },
    {
     "name": "stdout",
     "output_type": "stream",
     "text": [
      "[CV] .................................... , score=0.535, total=  40.6s\n"
     ]
    },
    {
     "name": "stderr",
     "output_type": "stream",
     "text": [
      "[Parallel(n_jobs=1)]: Done   5 out of   5 | elapsed:  3.3min remaining:    0.0s\n",
      "[Parallel(n_jobs=1)]: Done   5 out of   5 | elapsed:  3.3min finished\n"
     ]
    }
   ],
   "source": [
    "correlation_thresh = .9\n",
    "\n",
    "radiomics_preprocessing = make_pipeline(\n",
    "    VarianceThreshold(1e-6),\n",
    "    FeatureAgglomeration(affinity=partial(pairwise_distances, metric='correlation', n_jobs=1), \n",
    "                         n_clusters=None, distance_threshold=1 - correlation_thresh,\n",
    "                         linkage=\"single\"),\n",
    "    StandardScaler(),\n",
    "\n",
    "    SelectKBest(mutual_info_classif, k='all')\n",
    ")\n",
    "\n",
    "clinical_columns = X_clinical.columns.tolist()\n",
    "preprocessing = make_column_transformer(\n",
    "    (StandardScaler(), clinical_columns),\n",
    "    remainder=radiomics_preprocessing,\n",
    ")\n",
    "\n",
    "pipeline = make_pipeline(\n",
    "    preprocessing,\n",
    "    LogisticRegression(penalty='l1',\n",
    "                       solver='liblinear',\n",
    "                       class_weight='balanced',\n",
    "                       max_iter=500))\n",
    "param_grid = {\n",
    "    'columntransformer__remainder__selectkbest__k': np.arange(2, np.ceil(np.sqrt(len(X_combined_contrast))), 2, dtype=int),\n",
    "    'logisticregression__C': np.logspace(-2, 2, 5),\n",
    "}\n",
    "num_folds = 5\n",
    "estimator = GridSearchCV(pipeline, param_grid, cv=num_folds, scoring='roc_auc', n_jobs=14, verbose=10)\n",
    "results_radiomics_contrast = cross_validate(\n",
    "    estimator, X_combined_contrast, clinical.loc[X_combined_contrast.index, 'target'].values, cv=num_folds, return_estimator=True, scoring='roc_auc', verbose=10)"
   ]
  },
  {
   "cell_type": "code",
   "execution_count": 35,
   "metadata": {},
   "outputs": [
    {
     "data": {
      "text/plain": [
       "(0.6811764705882353, 0.10218376823815747)"
      ]
     },
     "execution_count": 35,
     "metadata": {},
     "output_type": "execute_result"
    }
   ],
   "source": [
    "results_radiomics_contrast['test_score'].mean(), results_radiomics_contrast['test_score'].std()"
   ]
  },
  {
   "cell_type": "code",
   "execution_count": 46,
   "metadata": {},
   "outputs": [
    {
     "data": {
      "text/html": [
       "<div>\n",
       "<style scoped>\n",
       "    .dataframe tbody tr th:only-of-type {\n",
       "        vertical-align: middle;\n",
       "    }\n",
       "\n",
       "    .dataframe tbody tr th {\n",
       "        vertical-align: top;\n",
       "    }\n",
       "\n",
       "    .dataframe thead th {\n",
       "        text-align: right;\n",
       "    }\n",
       "</style>\n",
       "<table border=\"1\" class=\"dataframe\">\n",
       "  <thead>\n",
       "    <tr style=\"text-align: right;\">\n",
       "      <th></th>\n",
       "      <th>score</th>\n",
       "      <th>model</th>\n",
       "    </tr>\n",
       "  </thead>\n",
       "  <tbody>\n",
       "    <tr>\n",
       "      <th>0</th>\n",
       "      <td>0.764706</td>\n",
       "      <td>clinical</td>\n",
       "    </tr>\n",
       "    <tr>\n",
       "      <th>1</th>\n",
       "      <td>0.837535</td>\n",
       "      <td>clinical</td>\n",
       "    </tr>\n",
       "    <tr>\n",
       "      <th>2</th>\n",
       "      <td>0.731092</td>\n",
       "      <td>clinical</td>\n",
       "    </tr>\n",
       "    <tr>\n",
       "      <th>3</th>\n",
       "      <td>0.719888</td>\n",
       "      <td>clinical</td>\n",
       "    </tr>\n",
       "    <tr>\n",
       "      <th>4</th>\n",
       "      <td>0.857143</td>\n",
       "      <td>clinical</td>\n",
       "    </tr>\n",
       "    <tr>\n",
       "      <th>5</th>\n",
       "      <td>0.728291</td>\n",
       "      <td>clinical + radiomics</td>\n",
       "    </tr>\n",
       "    <tr>\n",
       "      <th>6</th>\n",
       "      <td>0.837535</td>\n",
       "      <td>clinical + radiomics</td>\n",
       "    </tr>\n",
       "    <tr>\n",
       "      <th>7</th>\n",
       "      <td>0.731092</td>\n",
       "      <td>clinical + radiomics</td>\n",
       "    </tr>\n",
       "    <tr>\n",
       "      <th>8</th>\n",
       "      <td>0.770308</td>\n",
       "      <td>clinical + radiomics</td>\n",
       "    </tr>\n",
       "    <tr>\n",
       "      <th>9</th>\n",
       "      <td>0.803922</td>\n",
       "      <td>clinical + radiomics</td>\n",
       "    </tr>\n",
       "    <tr>\n",
       "      <th>10</th>\n",
       "      <td>0.794118</td>\n",
       "      <td>clinical + radiomics\\n(contrast)</td>\n",
       "    </tr>\n",
       "    <tr>\n",
       "      <th>11</th>\n",
       "      <td>0.782353</td>\n",
       "      <td>clinical + radiomics\\n(contrast)</td>\n",
       "    </tr>\n",
       "    <tr>\n",
       "      <th>12</th>\n",
       "      <td>0.700000</td>\n",
       "      <td>clinical + radiomics\\n(contrast)</td>\n",
       "    </tr>\n",
       "    <tr>\n",
       "      <th>13</th>\n",
       "      <td>0.594118</td>\n",
       "      <td>clinical + radiomics\\n(contrast)</td>\n",
       "    </tr>\n",
       "    <tr>\n",
       "      <th>14</th>\n",
       "      <td>0.535294</td>\n",
       "      <td>clinical + radiomics\\n(contrast)</td>\n",
       "    </tr>\n",
       "  </tbody>\n",
       "</table>\n",
       "</div>"
      ],
      "text/plain": [
       "       score                             model\n",
       "0   0.764706                          clinical\n",
       "1   0.837535                          clinical\n",
       "2   0.731092                          clinical\n",
       "3   0.719888                          clinical\n",
       "4   0.857143                          clinical\n",
       "5   0.728291              clinical + radiomics\n",
       "6   0.837535              clinical + radiomics\n",
       "7   0.731092              clinical + radiomics\n",
       "8   0.770308              clinical + radiomics\n",
       "9   0.803922              clinical + radiomics\n",
       "10  0.794118  clinical + radiomics\\n(contrast)\n",
       "11  0.782353  clinical + radiomics\\n(contrast)\n",
       "12  0.700000  clinical + radiomics\\n(contrast)\n",
       "13  0.594118  clinical + radiomics\\n(contrast)\n",
       "14  0.535294  clinical + radiomics\\n(contrast)"
      ]
     },
     "execution_count": 46,
     "metadata": {},
     "output_type": "execute_result"
    }
   ],
   "source": [
    "scores = pd.DataFrame({\n",
    "    'score': np.concatenate([\n",
    "      results_clinical['test_score'],\n",
    "      results_radiomics['test_score'],\n",
    "      results_radiomics_contrast['test_score'],\n",
    "  ]),\n",
    "    'model': ['clinical'] * num_folds + ['clinical + radiomics'] * num_folds + ['clinical + radiomics\\n(contrast)'] * num_folds,\n",
    "})\n",
    "scores"
   ]
  },
  {
   "cell_type": "code",
   "execution_count": 47,
   "metadata": {},
   "outputs": [
    {
     "data": {
      "text/html": [
       "<div>\n",
       "<style scoped>\n",
       "    .dataframe tbody tr th:only-of-type {\n",
       "        vertical-align: middle;\n",
       "    }\n",
       "\n",
       "    .dataframe tbody tr th {\n",
       "        vertical-align: top;\n",
       "    }\n",
       "\n",
       "    .dataframe thead th {\n",
       "        text-align: right;\n",
       "    }\n",
       "</style>\n",
       "<table border=\"1\" class=\"dataframe\">\n",
       "  <thead>\n",
       "    <tr style=\"text-align: right;\">\n",
       "      <th></th>\n",
       "      <th>model</th>\n",
       "      <th>mean</th>\n",
       "      <th>std</th>\n",
       "    </tr>\n",
       "  </thead>\n",
       "  <tbody>\n",
       "    <tr>\n",
       "      <th>0</th>\n",
       "      <td>clinical</td>\n",
       "      <td>0.782073</td>\n",
       "      <td>0.062208</td>\n",
       "    </tr>\n",
       "    <tr>\n",
       "      <th>1</th>\n",
       "      <td>clinical + radiomics</td>\n",
       "      <td>0.774230</td>\n",
       "      <td>0.047105</td>\n",
       "    </tr>\n",
       "    <tr>\n",
       "      <th>2</th>\n",
       "      <td>clinical + radiomics\\n(contrast)</td>\n",
       "      <td>0.681176</td>\n",
       "      <td>0.114245</td>\n",
       "    </tr>\n",
       "  </tbody>\n",
       "</table>\n",
       "</div>"
      ],
      "text/plain": [
       "                              model      mean       std\n",
       "0                          clinical  0.782073  0.062208\n",
       "1              clinical + radiomics  0.774230  0.047105\n",
       "2  clinical + radiomics\\n(contrast)  0.681176  0.114245"
      ]
     },
     "execution_count": 47,
     "metadata": {},
     "output_type": "execute_result"
    }
   ],
   "source": [
    "scores.groupby('model').agg(['mean', 'std']).droplevel(axis=1, level=0).reset_index()"
   ]
  },
  {
   "cell_type": "code",
   "execution_count": 49,
   "metadata": {},
   "outputs": [
    {
     "data": {
      "image/png": "[encoded data removed]",
      "text/plain": [
       "<Figure size 864x648 with 1 Axes>"
      ]
     },
     "metadata": {},
     "output_type": "display_data"
    }
   ],
   "source": [
    "means_stds = scores.groupby('model').agg(['mean', 'std']).droplevel(axis=1, level=0).reset_index()\n",
    "plt.bar([0, .5, 1.], 'mean', data=means_stds, width=.25, color=['C0', 'C1', 'C2'])\n",
    "plt.xlim(-.3, 1.3)\n",
    "plt.ylim(.5, .9)\n",
    "plt.errorbar([0, .5, 1.], 'mean', yerr='std', data=means_stds, ls='none', c='k', elinewidth=3)\n",
    "plt.xticks([0, .5, 1.], labels=means_stds['model'])\n",
    "plt.xlabel('Model')\n",
    "plt.ylabel('ROC AUC')\n",
    "sns.despine()"
   ]
  },
  {
   "cell_type": "code",
   "execution_count": 65,
   "metadata": {},
   "outputs": [],
   "source": [
    "def generate_cv_roc_curve(X, y, estimators, num_folds=5):\n",
    "  cv = StratifiedKFold(n_splits=num_folds)\n",
    "  tprs = []\n",
    "  mean_fpr = np.linspace(0, 1, 100)\n",
    "  for (train, test), estimator in zip(cv.split(X, y), estimators):\n",
    "    y_pred = estimator.predict_proba(X.iloc[test])[:, 1]\n",
    "    fpr, tpr, _ = roc_curve(y[test], y_pred)\n",
    "    interp_tpr = np.interp(mean_fpr, fpr, tpr)\n",
    "    interp_tpr[0] = 0.0\n",
    "    tprs.append(interp_tpr)\n",
    "  mean_tpr = np.mean(tprs, axis=0)\n",
    "  mean_tpr[-1] = 1.0\n",
    "  return mean_fpr, mean_tpr"
   ]
  },
  {
   "cell_type": "code",
   "execution_count": 66,
   "metadata": {},
   "outputs": [],
   "source": [
    "fpr_clinical, tpr_clinical = generate_cv_roc_curve(\n",
    "  X_clinical,\n",
    "  clinical['target'].values, \n",
    "  results_clinical['estimator'], \n",
    "  num_folds,\n",
    ")\n",
    "fpr_radiomics, tpr_radiomics = generate_cv_roc_curve(\n",
    "  X_combined,\n",
    "  clinical.loc[X_combined.index, 'target'].values, \n",
    "  results_radiomics['estimator'],\n",
    "  num_folds,\n",
    ")\n",
    "fpr_radiomics_contrast, tpr_radiomics_contrast = generate_cv_roc_curve(\n",
    "  X_combined_contrast, \n",
    "  clinical.loc[X_combined_contrast.index, 'target'].values,\n",
    "  results_radiomics_contrast['estimator'],\n",
    "  num_folds,\n",
    ")"
   ]
  },
  {
   "cell_type": "code",
   "execution_count": 74,
   "metadata": {},
   "outputs": [],
   "source": [
    "auc_clinical = scores.loc[scores['model'] == 'clinical', 'score'].mean()\n",
    "auc_radiomics = scores.loc[scores['model'] == 'clinical + radiomics', 'score'].mean()\n",
    "auc_radiomics_contrast = scores.loc[scores['model'] == 'clinical + radiomics\\n(contrast)', 'score'].mean()"
   ]
  },
  {
   "cell_type": "code",
   "execution_count": 78,
   "metadata": {},
   "outputs": [
    {
     "data": {
      "text/plain": [
       "<matplotlib.legend.Legend at 0x7fedc19b4210>"
      ]
     },
     "execution_count": 78,
     "metadata": {},
     "output_type": "execute_result"
    },
    {
     "data": {
      "image/png": "[encoded data removed]",
      "text/plain": [
       "<Figure size 864x648 with 1 Axes>"
      ]
     },
     "metadata": {},
     "output_type": "display_data"
    }
   ],
   "source": [
    "plt.plot([0, 1], [0, 1], linestyle=\"--\", lw=3, color=\"gray\", alpha=0.8)\n",
    "plt.plot(fpr_clinical, tpr_clinical, label=f'clinical (AUC={auc_clinical:0.2f})', lw=3)\n",
    "plt.plot(fpr_radiomics, tpr_radiomics, label=f'clinical + radiomics (AUC={auc_radiomics:0.2f})', lw=3)\n",
    "plt.plot(fpr_radiomics_contrast, tpr_radiomics_contrast, label=f'clinical + radiomics (contrast) (AUC={auc_radiomics_contrast:0.2f})', lw=3)\n",
    "plt.xlabel('False positive rate')\n",
    "plt.ylabel('True positive rate')\n",
    "plt.legend()"
   ]
  },
  {
   "cell_type": "code",
   "execution_count": null,
   "metadata": {},
   "outputs": [],
   "source": []
  }
 ],
 "metadata": {
  "kernelspec": {
   "display_name": "Python [conda env:radcure-challenge]",
   "language": "python",
   "name": "conda-env-radcure-challenge-py"
  },
  "language_info": {
   "codemirror_mode": {
    "name": "ipython",
    "version": 3
   },
   "file_extension": ".py",
   "mimetype": "text/x-python",
   "name": "python",
   "nbconvert_exporter": "python",
   "pygments_lexer": "ipython3",
   "version": "3.7.7"
  }
 },
 "nbformat": 4,
 "nbformat_minor": 4
}
